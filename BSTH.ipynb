{
  "nbformat": 4,
  "nbformat_minor": 0,
  "metadata": {
    "colab": {
      "provenance": [],
      "authorship_tag": "ABX9TyMVFsGpLE6Lxs0gYsph5uMf",
      "include_colab_link": true
    },
    "kernelspec": {
      "name": "python3",
      "display_name": "Python 3"
    },
    "language_info": {
      "name": "python"
    }
  },
  "cells": [
    {
      "cell_type": "markdown",
      "metadata": {
        "id": "view-in-github",
        "colab_type": "text"
      },
      "source": [
        "<a href=\"https://colab.research.google.com/github/TranNhatHan/SchoolExercise/blob/main/BSTH.ipynb\" target=\"_parent\"><img src=\"https://colab.research.google.com/assets/colab-badge.svg\" alt=\"Open In Colab\"/></a>"
      ]
    },
    {
      "cell_type": "markdown",
      "source": [
        "# Vector ma trận"
      ],
      "metadata": {
        "id": "YcyS6Vw3zu_3"
      }
    },
    {
      "cell_type": "markdown",
      "source": [
        "Tạo v là 1 vector hàng"
      ],
      "metadata": {
        "id": "Ou0z9Hklz5l9"
      }
    },
    {
      "cell_type": "code",
      "source": [
        "v = np.array([1, 2, 3, 4, 5])\n",
        "v"
      ],
      "metadata": {
        "colab": {
          "base_uri": "https://localhost:8080/"
        },
        "id": "InNbHyFEzyUZ",
        "outputId": "2a56481e-cfc3-4ea7-f090-b08242ad54d9"
      },
      "execution_count": null,
      "outputs": [
        {
          "output_type": "execute_result",
          "data": {
            "text/plain": [
              "array([1, 2, 3, 4, 5])"
            ]
          },
          "metadata": {},
          "execution_count": 3
        }
      ]
    },
    {
      "cell_type": "markdown",
      "source": [
        "Tạo w là 1 vcetor cột"
      ],
      "metadata": {
        "id": "og6I5gsT0GBE"
      }
    },
    {
      "cell_type": "code",
      "source": [
        "u = np.arange(1,6).reshape(5, 1)\n",
        "u"
      ],
      "metadata": {
        "colab": {
          "base_uri": "https://localhost:8080/"
        },
        "id": "ZZM5zHN60K9N",
        "outputId": "2f28c287-ad5c-4184-f32b-1bbde7863465"
      },
      "execution_count": null,
      "outputs": [
        {
          "output_type": "execute_result",
          "data": {
            "text/plain": [
              "array([[1],\n",
              "       [2],\n",
              "       [3],\n",
              "       [4],\n",
              "       [5]])"
            ]
          },
          "metadata": {},
          "execution_count": 32
        }
      ]
    },
    {
      "cell_type": "markdown",
      "source": [
        "(Hãy xác định số chiều (ndim), kích thước\n",
        "(shape) của 2 vector v và w;"
      ],
      "metadata": {
        "id": "5inoriUN0lsC"
      }
    },
    {
      "cell_type": "code",
      "source": [
        "np.ndim(u)"
      ],
      "metadata": {
        "colab": {
          "base_uri": "https://localhost:8080/"
        },
        "id": "YpKgAgAp0on6",
        "outputId": "3d428a53-3bde-4a99-a17a-ad545da960a6"
      },
      "execution_count": null,
      "outputs": [
        {
          "output_type": "execute_result",
          "data": {
            "text/plain": [
              "2"
            ]
          },
          "metadata": {},
          "execution_count": 33
        }
      ]
    },
    {
      "cell_type": "code",
      "source": [
        "np.ndim(v)"
      ],
      "metadata": {
        "colab": {
          "base_uri": "https://localhost:8080/"
        },
        "id": "44VWD3rr0xCz",
        "outputId": "72e7674d-bce8-4bd3-d52b-68c09b82e802"
      },
      "execution_count": null,
      "outputs": [
        {
          "output_type": "execute_result",
          "data": {
            "text/plain": [
              "2"
            ]
          },
          "metadata": {},
          "execution_count": 34
        }
      ]
    },
    {
      "cell_type": "code",
      "source": [
        "np.shape(u)"
      ],
      "metadata": {
        "colab": {
          "base_uri": "https://localhost:8080/"
        },
        "id": "FLiV3Dft04oe",
        "outputId": "48d98afd-debc-4ba2-e69b-097224a4fba2"
      },
      "execution_count": null,
      "outputs": [
        {
          "output_type": "execute_result",
          "data": {
            "text/plain": [
              "(5, 1)"
            ]
          },
          "metadata": {},
          "execution_count": 35
        }
      ]
    },
    {
      "cell_type": "code",
      "source": [
        "np.shape(v)"
      ],
      "metadata": {
        "colab": {
          "base_uri": "https://localhost:8080/"
        },
        "id": "EvkfocMR06x_",
        "outputId": "7afa2fc2-b55e-456d-8b4e-3b11e97a64aa"
      },
      "execution_count": null,
      "outputs": [
        {
          "output_type": "execute_result",
          "data": {
            "text/plain": [
              "(1, 5)"
            ]
          },
          "metadata": {},
          "execution_count": 36
        }
      ]
    },
    {
      "cell_type": "markdown",
      "source": [
        "Cho u và w là 2 vector cột có kích thước\n",
        "(m, 1). Hãy tạo ma trận X bằng cách\n",
        "ghép 2 vector cột u và w lại với nhau"
      ],
      "metadata": {
        "id": "Kg3uuKsb1JQ0"
      }
    },
    {
      "cell_type": "code",
      "source": [
        "w = np.arange(6,11).reshape(5, 1)\n",
        "X = np.column_stack((u,w))"
      ],
      "metadata": {
        "id": "pt6yED0V1J6h"
      },
      "execution_count": null,
      "outputs": []
    },
    {
      "cell_type": "markdown",
      "source": [
        "Số chiều, kích thước và in nội\n",
        "dung ma trận X ra màn hình"
      ],
      "metadata": {
        "id": "P5C0Squ-18Xq"
      }
    },
    {
      "cell_type": "code",
      "source": [
        "X"
      ],
      "metadata": {
        "colab": {
          "base_uri": "https://localhost:8080/"
        },
        "id": "q0bOttmP1zIt",
        "outputId": "9f6f0d8e-9c13-49e9-e4af-093c39363c63"
      },
      "execution_count": null,
      "outputs": [
        {
          "output_type": "execute_result",
          "data": {
            "text/plain": [
              "array([[ 1,  6],\n",
              "       [ 2,  7],\n",
              "       [ 3,  8],\n",
              "       [ 4,  9],\n",
              "       [ 5, 10]])"
            ]
          },
          "metadata": {},
          "execution_count": 38
        }
      ]
    },
    {
      "cell_type": "code",
      "source": [
        "np.ndim(X)"
      ],
      "metadata": {
        "colab": {
          "base_uri": "https://localhost:8080/"
        },
        "id": "wqwi-U9c2BH4",
        "outputId": "5e2bf876-ade8-4d72-8043-3cb68e77d033"
      },
      "execution_count": null,
      "outputs": [
        {
          "output_type": "execute_result",
          "data": {
            "text/plain": [
              "2"
            ]
          },
          "metadata": {},
          "execution_count": 39
        }
      ]
    },
    {
      "cell_type": "code",
      "source": [
        "np.shape(X)"
      ],
      "metadata": {
        "colab": {
          "base_uri": "https://localhost:8080/"
        },
        "id": "f5XeEbzN2EM1",
        "outputId": "a342f2a7-f3c5-4d85-a348-988948368c77"
      },
      "execution_count": null,
      "outputs": [
        {
          "output_type": "execute_result",
          "data": {
            "text/plain": [
              "(5, 2)"
            ]
          },
          "metadata": {},
          "execution_count": 40
        }
      ]
    },
    {
      "cell_type": "markdown",
      "source": [
        "Hãy tạo ma trận X có giá trị như sau"
      ],
      "metadata": {
        "id": "rBmDVQas2Uw0"
      }
    },
    {
      "cell_type": "markdown",
      "source": [
        "![image.png](data:image/png;base64,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)"
      ],
      "metadata": {
        "id": "YZ9To0kj2PHm"
      }
    },
    {
      "cell_type": "code",
      "source": [
        "X = np.array([[1,2,3,4,5], [6,7,8,9,2], [4,5,7,2,1]])\n",
        "X"
      ],
      "metadata": {
        "colab": {
          "base_uri": "https://localhost:8080/"
        },
        "id": "hpB2Wh_E2K43",
        "outputId": "15264209-25e4-472b-b1a6-785a4caf9e13"
      },
      "execution_count": null,
      "outputs": [
        {
          "output_type": "execute_result",
          "data": {
            "text/plain": [
              "array([[1, 2, 3, 4, 5],\n",
              "       [6, 7, 8, 9, 2],\n",
              "       [4, 5, 7, 2, 1]])"
            ]
          },
          "metadata": {},
          "execution_count": 4
        }
      ]
    },
    {
      "cell_type": "code",
      "source": [
        "np.ndim(X)"
      ],
      "metadata": {
        "colab": {
          "base_uri": "https://localhost:8080/"
        },
        "id": "692AZE-G21TP",
        "outputId": "05c767ad-9e91-4a25-899a-cbb49cacc13b"
      },
      "execution_count": null,
      "outputs": [
        {
          "output_type": "execute_result",
          "data": {
            "text/plain": [
              "2"
            ]
          },
          "metadata": {},
          "execution_count": 5
        }
      ]
    },
    {
      "cell_type": "code",
      "source": [
        "np.shape(X)"
      ],
      "metadata": {
        "colab": {
          "base_uri": "https://localhost:8080/"
        },
        "id": "6XK5D6Di238x",
        "outputId": "6654960c-f2e8-4610-eb34-0ede34edb328"
      },
      "execution_count": null,
      "outputs": [
        {
          "output_type": "execute_result",
          "data": {
            "text/plain": [
              "(3, 5)"
            ]
          },
          "metadata": {},
          "execution_count": 6
        }
      ]
    },
    {
      "cell_type": "markdown",
      "source": [
        "Hãy nhân ma trận X với vector v"
      ],
      "metadata": {
        "id": "KFt6QbZy3o4g"
      }
    },
    {
      "cell_type": "code",
      "source": [
        "np.dot(X, v)"
      ],
      "metadata": {
        "id": "GbX7MbKP3qSi",
        "colab": {
          "base_uri": "https://localhost:8080/"
        },
        "outputId": "53619151-8310-4a44-975f-124251bdec62"
      },
      "execution_count": null,
      "outputs": [
        {
          "output_type": "execute_result",
          "data": {
            "text/plain": [
              "array([55, 90, 48])"
            ]
          },
          "metadata": {},
          "execution_count": 9
        }
      ]
    },
    {
      "cell_type": "markdown",
      "source": [
        "Hãy nhân ma trận X với vector w"
      ],
      "metadata": {
        "id": "D57vpBsE2-sG"
      }
    },
    {
      "cell_type": "code",
      "source": [
        "np.dot(X, u)"
      ],
      "metadata": {
        "colab": {
          "base_uri": "https://localhost:8080/"
        },
        "id": "ep-E4h99252I",
        "outputId": "1f04511a-72b8-4d64-cc29-17e2c5923f94"
      },
      "execution_count": null,
      "outputs": [
        {
          "output_type": "execute_result",
          "data": {
            "text/plain": [
              "array([[55],\n",
              "       [90],\n",
              "       [48]])"
            ]
          },
          "metadata": {},
          "execution_count": 52
        }
      ]
    },
    {
      "cell_type": "markdown",
      "source": [
        "Ma trận\n",
        "chuyển vị của X, ký hiệu là X\n",
        "T"
      ],
      "metadata": {
        "id": "sE42ihsb3M6h"
      }
    },
    {
      "cell_type": "code",
      "source": [
        "X.T"
      ],
      "metadata": {
        "colab": {
          "base_uri": "https://localhost:8080/"
        },
        "id": "pXshuZfg3Ox6",
        "outputId": "00f87a9f-9739-448d-c997-8512c8688951"
      },
      "execution_count": null,
      "outputs": [
        {
          "output_type": "execute_result",
          "data": {
            "text/plain": [
              "array([[1, 6, 4],\n",
              "       [2, 7, 5],\n",
              "       [3, 8, 7],\n",
              "       [4, 9, 2],\n",
              "       [5, 2, 1]])"
            ]
          },
          "metadata": {},
          "execution_count": 48
        }
      ]
    }
  ]
}